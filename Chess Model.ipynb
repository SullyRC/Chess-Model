{
 "cells": [
  {
   "cell_type": "markdown",
   "id": "a984acef",
   "metadata": {},
   "source": [
    "# Chess Model\n",
    "This notebook focuses on creating a predictive model for the winning side of a chess match given information about the number of moves.\n",
    "\n",
    "## Import Statements and Data\n",
    "In this section we'll import our packages we'll be using and import our data. We'll also check for data quality."
   ]
  },
  {
   "cell_type": "code",
   "execution_count": 1,
   "id": "62d90710",
   "metadata": {},
   "outputs": [],
   "source": [
    "import pandas as pd\n",
    "import matplotlib.pyplot as plt\n",
    "import numpy as np\n",
    "import seaborn as sns\n",
    "import warnings\n",
    "warnings.filterwarnings(\"ignore\")"
   ]
  },
  {
   "cell_type": "markdown",
   "id": "5ed5a8dc",
   "metadata": {},
   "source": [
    "Reading in our dataset and setting it to a variable called games."
   ]
  },
  {
   "cell_type": "code",
   "execution_count": 2,
   "id": "4bdfc065",
   "metadata": {},
   "outputs": [],
   "source": [
    "games = pd.read_csv(\"games.csv\")"
   ]
  },
  {
   "cell_type": "markdown",
   "id": "d14b0f73",
   "metadata": {},
   "source": [
    "Let's check the data quality. We want to make sure we aren't workin with any null data."
   ]
  },
  {
   "cell_type": "code",
   "execution_count": 3,
   "id": "7632614a",
   "metadata": {},
   "outputs": [
    {
     "name": "stdout",
     "output_type": "stream",
     "text": [
      "<class 'pandas.core.frame.DataFrame'>\n",
      "RangeIndex: 20058 entries, 0 to 20057\n",
      "Data columns (total 16 columns):\n",
      " #   Column          Non-Null Count  Dtype  \n",
      "---  ------          --------------  -----  \n",
      " 0   id              20058 non-null  object \n",
      " 1   rated           20058 non-null  bool   \n",
      " 2   created_at      20058 non-null  float64\n",
      " 3   last_move_at    20058 non-null  float64\n",
      " 4   turns           20058 non-null  int64  \n",
      " 5   victory_status  20058 non-null  object \n",
      " 6   winner          20058 non-null  object \n",
      " 7   increment_code  20058 non-null  object \n",
      " 8   white_id        20058 non-null  object \n",
      " 9   white_rating    20058 non-null  int64  \n",
      " 10  black_id        20058 non-null  object \n",
      " 11  black_rating    20058 non-null  int64  \n",
      " 12  moves           20058 non-null  object \n",
      " 13  opening_eco     20058 non-null  object \n",
      " 14  opening_name    20058 non-null  object \n",
      " 15  opening_ply     20058 non-null  int64  \n",
      "dtypes: bool(1), float64(2), int64(4), object(9)\n",
      "memory usage: 2.3+ MB\n"
     ]
    }
   ],
   "source": [
    "games.info()"
   ]
  },
  {
   "cell_type": "code",
   "execution_count": 4,
   "id": "2e23f054",
   "metadata": {},
   "outputs": [],
   "source": [
    "games['rating_diff'] = games['white_rating'] - games['black_rating']"
   ]
  },
  {
   "cell_type": "code",
   "execution_count": 5,
   "id": "5e3939d1",
   "metadata": {},
   "outputs": [],
   "source": [
    "games = games[['winner','moves','rating_diff']]\n",
    "games = games.drop(columns=['rating_diff'])\n",
    "#Comment to subset out draws\n",
    "games = games[games['winner'] != 'draw']"
   ]
  },
  {
   "cell_type": "markdown",
   "id": "71392e91",
   "metadata": {},
   "source": [
    "Now that we know that our data doesn't contain nulls, let's check roughly what our baseline percent is."
   ]
  },
  {
   "cell_type": "code",
   "execution_count": 6,
   "id": "2e68a7de",
   "metadata": {},
   "outputs": [
    {
     "data": {
      "text/plain": [
       "white    0.523393\n",
       "black    0.476607\n",
       "Name: winner, dtype: float64"
      ]
     },
     "execution_count": 6,
     "metadata": {},
     "output_type": "execute_result"
    }
   ],
   "source": [
    "games['winner'].value_counts(normalize=True)"
   ]
  },
  {
   "cell_type": "markdown",
   "id": "515b4e00",
   "metadata": {},
   "source": [
    "Looking at this, our model will need to perform above roughly 50% to be accurate.\n",
    "\n",
    "## Data Cleaning and Preprocessing\n",
    "Unfortunately, the moves columns is our only source of information for what is going on in our games turn to turn. Because of this we'll need to work vigorously to get the data the way we want it in. First things first let's split this column into the desired number of turns. This needs to be standardized so that our number of inputs for our model is always the same. We'll create a variable, turns, representing the number of turns we want."
   ]
  },
  {
   "cell_type": "code",
   "execution_count": 7,
   "id": "eec374c7",
   "metadata": {},
   "outputs": [],
   "source": [
    "turns = 10"
   ]
  },
  {
   "cell_type": "markdown",
   "id": "458fe903",
   "metadata": {},
   "source": [
    "Now we'll need to create a function to return the our moves column split and spliced to our desired size. An important issue of note is because we have to have consistent input, games with less turns will need to be padded. For ease of use, we'll pad the empty turns with 0."
   ]
  },
  {
   "cell_type": "code",
   "execution_count": 8,
   "id": "35183142",
   "metadata": {},
   "outputs": [],
   "source": [
    "def splitStandardize(array, length = turns):\n",
    "    split_array = array.split(' ')[0:length]\n",
    "    while len(split_array) < length:\n",
    "        split_array.append('0')\n",
    "    return(split_array)"
   ]
  },
  {
   "cell_type": "markdown",
   "id": "6b3cdda2",
   "metadata": {},
   "source": [
    "Now we can create a new column for our first x amount of turns."
   ]
  },
  {
   "cell_type": "code",
   "execution_count": 9,
   "id": "f0282df6",
   "metadata": {},
   "outputs": [],
   "source": [
    "columnName = 'First'+ str(turns) + 'Moves'\n",
    "games[columnName] = games['moves'].apply(lambda x: splitStandardize(x))"
   ]
  },
  {
   "cell_type": "markdown",
   "id": "d4e244ad",
   "metadata": {},
   "source": [
    "Now we need to conceptualize what we're going to do with these moves. Chess has a couple of things of note for the notation. Here's what we need to know.\n",
    "* Move put opponent in check: + (++ means checkmate)\n",
    "* Piece was taken in move: x\n",
    "* Different notations are used for different pieces\n",
    "  * K : King\n",
    "  * Q : Queen\n",
    "  * R : Rook\n",
    "  * B : Bishop\n",
    "  * N : Knight\n",
    "  * P : pawn (Note that pawn is also the defualt)\n",
    "* Castleing is indicated by O-O or O-O-O\n",
    "* Lower case letters followed by a number represents the coordinates of the play. This get's weird as a piece was taken. If a piece was taken, the coordinates of the final location are given after the \"x\".\n",
    "\n",
    "With this information we should be able to work with putting our information about moves into vectors. Each turn or move will contain:\n",
    "- A feature representing the x coordinate (letters)\n",
    "- A feature repressenting the y cooridnate (numbers)\n",
    "- Dummy columns for each piece that was moved (other than pawn)\n",
    "- A flag for if a piece was taken\n",
    "- A flag for if a move resulted in a check\n",
    "- A flag for if the turn was null (ie the game was finished already)\n",
    "- A flag for if a castle occured\n",
    "\n",
    "We'll need to create functions for each of these flags."
   ]
  },
  {
   "cell_type": "code",
   "execution_count": 10,
   "id": "b686a3ca",
   "metadata": {},
   "outputs": [],
   "source": [
    "def flagPieceTaken(array):\n",
    "    if '0' == array:\n",
    "        return(-1)\n",
    "    elif 'x' in array:\n",
    "        return(1)\n",
    "    else:\n",
    "        return(0)"
   ]
  },
  {
   "cell_type": "code",
   "execution_count": 11,
   "id": "026c8762",
   "metadata": {},
   "outputs": [],
   "source": [
    "def flagCheck(array):\n",
    "    if '0' == array:\n",
    "        return(-1)\n",
    "    elif '+' in array:\n",
    "        return(1)\n",
    "    else:\n",
    "        return(0)"
   ]
  },
  {
   "cell_type": "code",
   "execution_count": 12,
   "id": "b4ea3f19",
   "metadata": {},
   "outputs": [],
   "source": [
    "def flagNull(array):\n",
    "    if '0' == array:\n",
    "        return(1)\n",
    "    else:\n",
    "        return(0)"
   ]
  },
  {
   "cell_type": "code",
   "execution_count": 13,
   "id": "35b027a4",
   "metadata": {},
   "outputs": [],
   "source": [
    "def flagPieceType(turnNumber,dataframe):\n",
    "    dataframe['temp'] = dataframe[columnName].apply(lambda x: x[turnNumber])\n",
    "    for piece in ['K','Q','R','B','N']:\n",
    "        newColumnName = piece + str(turnNumber + 1)\n",
    "        dataframe[newColumnName] = [0] * len(dataframe)\n",
    "        dataframe.loc[dataframe['temp'].str.contains(piece,na=False),newColumnName] = 1"
   ]
  },
  {
   "cell_type": "code",
   "execution_count": 14,
   "id": "3e1d0e98",
   "metadata": {},
   "outputs": [],
   "source": [
    "def xCoord(array, case = {'a':1,'b':2,'c':3,'d':4,'e':5,'f':6,'g':7,'h':8}):\n",
    "    key = ''\n",
    "    index = -1\n",
    "    while (key not in case) and (abs(index) <= len(array)):\n",
    "        key = array[index]\n",
    "        index-= 1\n",
    "    if key in case:\n",
    "        return(case[key])\n",
    "    else:\n",
    "        return(-1)"
   ]
  },
  {
   "cell_type": "code",
   "execution_count": 15,
   "id": "e2d4ff46",
   "metadata": {},
   "outputs": [],
   "source": [
    "def yCoord(array, case = {'1':1,'2':2,'3':3,'4':4,'5':5,'6':6,'7':7,'8':8}):\n",
    "    key = ''\n",
    "    index = -1\n",
    "    while (key not in case) and (abs(index) <= len(array)):\n",
    "        key = array[index]\n",
    "        index-= 1\n",
    "    if key in case:\n",
    "        return(case[key])\n",
    "    else:\n",
    "        return(-1)"
   ]
  },
  {
   "cell_type": "code",
   "execution_count": 16,
   "id": "94c5e9fb",
   "metadata": {},
   "outputs": [],
   "source": [
    "def castleFlag(array):\n",
    "    if array == '0':\n",
    "        return(-1)\n",
    "    elif 'O-O' in array:\n",
    "        return(1)\n",
    "    else:\n",
    "        return(0)"
   ]
  },
  {
   "cell_type": "markdown",
   "id": "d599cc8f",
   "metadata": {},
   "source": [
    "Now that we have all of our functions built, let's create one big function that combines them all. This will make our code more interpretable."
   ]
  },
  {
   "cell_type": "code",
   "execution_count": 17,
   "id": "0f8d5f7f",
   "metadata": {},
   "outputs": [],
   "source": [
    "def combined(turnNumber,dataframe):\n",
    "    newColumnName = str(turnNumber + 1)\n",
    "    array = dataframe[columnName].apply(lambda x: x[turnNumber])\n",
    "    array = array.apply(lambda x: x.replace('=',''))\n",
    "    dataframe[f\"{newColumnName}PieceTaken\"] = array.apply(lambda x: flagPieceTaken(x))\n",
    "    dataframe[f\"{newColumnName}Check\"] = array.apply(lambda x: flagCheck(x))\n",
    "    dataframe[f\"{newColumnName}NullTurn\"] = array.apply(lambda x: flagNull(x))\n",
    "    dataframe[f\"{newColumnName}XCoord\"] = array.apply(lambda x: xCoord(x))\n",
    "    dataframe[f\"{newColumnName}YCoord\"] = array.apply(lambda x: yCoord(x))\n",
    "    dataframe[f\"{newColumnName}Castle\"] = array.apply(lambda x: castleFlag(x))\n",
    "    flagPieceType(turnNumber,dataframe)"
   ]
  },
  {
   "cell_type": "markdown",
   "id": "bb7d220b",
   "metadata": {},
   "source": [
    "Now let's loop through all the turns that we have and create these features."
   ]
  },
  {
   "cell_type": "code",
   "execution_count": 18,
   "id": "d8e47669",
   "metadata": {},
   "outputs": [
    {
     "name": "stdout",
     "output_type": "stream",
     "text": [
      "Turn 1 Completed\n",
      "Turn 2 Completed\n",
      "Turn 3 Completed\n",
      "Turn 4 Completed\n",
      "Turn 5 Completed\n",
      "Turn 6 Completed\n",
      "Turn 7 Completed\n",
      "Turn 8 Completed\n",
      "Turn 9 Completed\n",
      "Turn 10 Completed\n",
      "Turn 11 Completed\n",
      "Turn 12 Completed\n",
      "Turn 13 Completed\n",
      "Turn 14 Completed\n",
      "Turn 15 Completed\n"
     ]
    }
   ],
   "source": [
    "for turnNumber in range(turns):\n",
    "    combined(turnNumber,games)\n",
    "    print(f\"Turn {turnNumber + 1} Completed\")"
   ]
  },
  {
   "cell_type": "markdown",
   "id": "2c3179b6",
   "metadata": {},
   "source": [
    "Now let's check and make sure this was successful."
   ]
  },
  {
   "cell_type": "code",
   "execution_count": 19,
   "id": "4d1c253b",
   "metadata": {},
   "outputs": [
    {
     "data": {
      "text/plain": [
       "[]"
      ]
     },
     "execution_count": 19,
     "metadata": {},
     "output_type": "execute_result"
    }
   ],
   "source": [
    "games.columns[games.isna().any()].tolist()"
   ]
  },
  {
   "cell_type": "markdown",
   "id": "845ca374",
   "metadata": {},
   "source": [
    "The fact that there are no columns names tells us that we have no columns that have na values. Let's drop our temp, moves, and columnName columns so that we can get ready to model."
   ]
  },
  {
   "cell_type": "code",
   "execution_count": 20,
   "id": "a8f58040",
   "metadata": {},
   "outputs": [],
   "source": [
    "games = games.drop(columns = ['temp','moves',columnName])"
   ]
  },
  {
   "cell_type": "markdown",
   "id": "7b5be798",
   "metadata": {},
   "source": [
    "## Modeling\n",
    "Now we can go through and model the relationship. First things first let's reassign our target variable so that it can work in sklearn."
   ]
  },
  {
   "cell_type": "code",
   "execution_count": 21,
   "id": "76b28571",
   "metadata": {},
   "outputs": [],
   "source": [
    "from sklearn.preprocessing import LabelEncoder\n",
    "le = LabelEncoder()\n",
    "games['winner'] =le.fit_transform(games['winner'])"
   ]
  },
  {
   "cell_type": "markdown",
   "id": "3a0d7ef9",
   "metadata": {},
   "source": [
    "Now we can go through and model our data. We'll be utilizing linear discriminant analysis as our model and Kfold crossvalidation to evaluate it. "
   ]
  },
  {
   "cell_type": "code",
   "execution_count": 22,
   "id": "40080801",
   "metadata": {},
   "outputs": [],
   "source": [
    "from sklearn.model_selection import KFold, cross_val_score\n",
    "from sklearn.discriminant_analysis import LinearDiscriminantAnalysis as LDA"
   ]
  },
  {
   "cell_type": "code",
   "execution_count": 23,
   "id": "253d03f4",
   "metadata": {},
   "outputs": [],
   "source": [
    "k = 10\n",
    "crossvalidation = KFold(n_splits=k, random_state = 123, shuffle=True)"
   ]
  },
  {
   "cell_type": "code",
   "execution_count": 24,
   "id": "ee40f0d0",
   "metadata": {},
   "outputs": [],
   "source": [
    "LDA_cv_scores = cross_val_score(LDA(),games.drop(columns=['winner']),games['winner'])"
   ]
  },
  {
   "cell_type": "code",
   "execution_count": 25,
   "id": "80ecdc63",
   "metadata": {},
   "outputs": [
    {
     "name": "stdout",
     "output_type": "stream",
     "text": [
      "LDA cross validation scores with k=10:  [0.56357928 0.58791209 0.57456829 0.55561371 0.555352  ]\n",
      "Average score of all folds: 0.5674050740824585\n"
     ]
    }
   ],
   "source": [
    "print(\"LDA cross validation scores with k=10: \", LDA_cv_scores)\n",
    "print(\"Average score of all folds:\",LDA_cv_scores.mean())"
   ]
  },
  {
   "cell_type": "markdown",
   "id": "aa3ba000",
   "metadata": {},
   "source": [
    "## Deep learning KEK"
   ]
  },
  {
   "cell_type": "code",
   "execution_count": 26,
   "id": "1d67d2b0",
   "metadata": {},
   "outputs": [],
   "source": [
    "from sklearn.model_selection import train_test_split\n",
    "import tensorflow as tf\n",
    "from tensorflow.keras import layers, models"
   ]
  },
  {
   "cell_type": "code",
   "execution_count": 27,
   "id": "213228e9",
   "metadata": {},
   "outputs": [],
   "source": [
    "train_set, test_set = train_test_split(games, test_size=.2, random_state = 42)"
   ]
  },
  {
   "cell_type": "markdown",
   "id": "8f4dae53",
   "metadata": {},
   "source": [
    "Now we create our model"
   ]
  },
  {
   "cell_type": "code",
   "execution_count": 28,
   "id": "869f2895",
   "metadata": {},
   "outputs": [],
   "source": [
    "model = models.Sequential()\n",
    "model.add(layers.InputLayer(len(games.columns)-1))\n",
    "model.add(layers.Dense(256,activation='relu'))\n",
    "model.add(layers.Dense(128,activation='relu'))\n",
    "model.add(layers.Dense(64,activation='relu'))\n",
    "model.add(layers.Dense(32,activation='softmax'))\n",
    "model.add(layers.Dense(len(le.classes_)-1))"
   ]
  },
  {
   "cell_type": "code",
   "execution_count": 29,
   "id": "bae02f6d",
   "metadata": {},
   "outputs": [],
   "source": [
    "model.compile(optimizer='adam',\n",
    "             loss=tf.keras.losses.BinaryCrossentropy(from_logits=True),\n",
    "             metrics=['accuracy'])"
   ]
  },
  {
   "cell_type": "code",
   "execution_count": 30,
   "id": "c50ede28",
   "metadata": {
    "scrolled": true
   },
   "outputs": [
    {
     "name": "stdout",
     "output_type": "stream",
     "text": [
      "Epoch 1/15\n",
      "120/120 [==============================] - 1s 2ms/step - loss: 0.6912 - accuracy: 0.4759\n",
      "Epoch 2/15\n",
      "120/120 [==============================] - 0s 2ms/step - loss: 0.6885 - accuracy: 0.4759\n",
      "Epoch 3/15\n",
      "120/120 [==============================] - 0s 1ms/step - loss: 0.6855 - accuracy: 0.4759\n",
      "Epoch 4/15\n",
      "120/120 [==============================] - 0s 1ms/step - loss: 0.6837 - accuracy: 0.4800\n",
      "Epoch 5/15\n",
      "120/120 [==============================] - 0s 1ms/step - loss: 0.6788 - accuracy: 0.5037\n",
      "Epoch 6/15\n",
      "120/120 [==============================] - 0s 1ms/step - loss: 0.6784 - accuracy: 0.5087\n",
      "Epoch 7/15\n",
      "120/120 [==============================] - 0s 1ms/step - loss: 0.6745 - accuracy: 0.5223\n",
      "Epoch 8/15\n",
      "120/120 [==============================] - 0s 1ms/step - loss: 0.6746 - accuracy: 0.5222\n",
      "Epoch 9/15\n",
      "120/120 [==============================] - 0s 2ms/step - loss: 0.6696 - accuracy: 0.5401\n",
      "Epoch 10/15\n",
      "120/120 [==============================] - 0s 1ms/step - loss: 0.6661 - accuracy: 0.5439\n",
      "Epoch 11/15\n",
      "120/120 [==============================] - 0s 1ms/step - loss: 0.6636 - accuracy: 0.5478\n",
      "Epoch 12/15\n",
      "120/120 [==============================] - 0s 2ms/step - loss: 0.6589 - accuracy: 0.5580\n",
      "Epoch 13/15\n",
      "120/120 [==============================] - 0s 1ms/step - loss: 0.6587 - accuracy: 0.5589\n",
      "Epoch 14/15\n",
      "120/120 [==============================] - 0s 2ms/step - loss: 0.6512 - accuracy: 0.5769\n",
      "Epoch 15/15\n",
      "120/120 [==============================] - 0s 2ms/step - loss: 0.6456 - accuracy: 0.5868\n"
     ]
    },
    {
     "data": {
      "text/plain": [
       "<keras.callbacks.History at 0x184c353ba60>"
      ]
     },
     "execution_count": 30,
     "metadata": {},
     "output_type": "execute_result"
    }
   ],
   "source": [
    "model.fit(train_set.drop(columns=['winner']),\n",
    "         train_set['winner'],batch_size=128,epochs=15)"
   ]
  },
  {
   "cell_type": "code",
   "execution_count": 31,
   "id": "9d0faa4a",
   "metadata": {},
   "outputs": [
    {
     "name": "stdout",
     "output_type": "stream",
     "text": [
      "30/30 [==============================] - 0s 862us/step - loss: 0.6751 - accuracy: 0.5157\n"
     ]
    },
    {
     "data": {
      "text/plain": [
       "[0.6751484274864197, 0.5156986117362976]"
      ]
     },
     "execution_count": 31,
     "metadata": {},
     "output_type": "execute_result"
    }
   ],
   "source": [
    "model.evaluate(test_set.drop(columns=['winner']),\n",
    "         test_set['winner'],batch_size=128)"
   ]
  }
 ],
 "metadata": {
  "kernelspec": {
   "display_name": "Python 3 (ipykernel)",
   "language": "python",
   "name": "python3"
  },
  "language_info": {
   "codemirror_mode": {
    "name": "ipython",
    "version": 3
   },
   "file_extension": ".py",
   "mimetype": "text/x-python",
   "name": "python",
   "nbconvert_exporter": "python",
   "pygments_lexer": "ipython3",
   "version": "3.8.8"
  }
 },
 "nbformat": 4,
 "nbformat_minor": 5
}
