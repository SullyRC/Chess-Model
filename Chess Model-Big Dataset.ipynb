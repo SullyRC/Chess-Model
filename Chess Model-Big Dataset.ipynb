{
 "cells": [
  {
   "cell_type": "markdown",
   "id": "a984acef",
   "metadata": {},
   "source": [
    "# Chess Model\n",
    "This notebook focuses on creating a predictive model for the winning side of a chess match given information about the number of moves.\n",
    "\n",
    "## Import Statements and Data\n",
    "In this section we'll import our packages we'll be using and import our data. We'll also check for data quality."
   ]
  },
  {
   "cell_type": "code",
   "execution_count": 1,
   "id": "62d90710",
   "metadata": {},
   "outputs": [],
   "source": [
    "import pandas as pd\n",
    "import matplotlib.pyplot as plt\n",
    "import numpy as np\n",
    "import seaborn as sns\n",
    "import warnings\n",
    "warnings.filterwarnings(\"ignore\")\n",
    "from IPython.display import clear_output\n",
    "import os"
   ]
  },
  {
   "cell_type": "markdown",
   "id": "5ed5a8dc",
   "metadata": {},
   "source": [
    "Reading in our dataset and setting it to a variable called games."
   ]
  },
  {
   "cell_type": "code",
   "execution_count": 2,
   "id": "4bdfc065",
   "metadata": {},
   "outputs": [],
   "source": [
    "games = pd.read_csv(\"chess_games.csv\")"
   ]
  },
  {
   "cell_type": "markdown",
   "id": "d14b0f73",
   "metadata": {},
   "source": [
    "Let's check the data quality. We want to make sure we aren't workin with any null data."
   ]
  },
  {
   "cell_type": "code",
   "execution_count": 3,
   "id": "7632614a",
   "metadata": {},
   "outputs": [
    {
     "name": "stdout",
     "output_type": "stream",
     "text": [
      "<class 'pandas.core.frame.DataFrame'>\n",
      "RangeIndex: 6256184 entries, 0 to 6256183\n",
      "Data columns (total 15 columns):\n",
      " #   Column           Dtype  \n",
      "---  ------           -----  \n",
      " 0   Event            object \n",
      " 1   White            object \n",
      " 2   Black            object \n",
      " 3   Result           object \n",
      " 4   UTCDate          object \n",
      " 5   UTCTime          object \n",
      " 6   WhiteElo         int64  \n",
      " 7   BlackElo         int64  \n",
      " 8   WhiteRatingDiff  float64\n",
      " 9   BlackRatingDiff  float64\n",
      " 10  ECO              object \n",
      " 11  Opening          object \n",
      " 12  TimeControl      object \n",
      " 13  Termination      object \n",
      " 14  AN               object \n",
      "dtypes: float64(2), int64(2), object(11)\n",
      "memory usage: 716.0+ MB\n"
     ]
    }
   ],
   "source": [
    "games.info()"
   ]
  },
  {
   "cell_type": "code",
   "execution_count": 4,
   "id": "2e23f054",
   "metadata": {},
   "outputs": [],
   "source": [
    "#games['rating_diff'] = games['white_rating'] - games['black_rating']"
   ]
  },
  {
   "cell_type": "code",
   "execution_count": 5,
   "id": "5e3939d1",
   "metadata": {},
   "outputs": [],
   "source": [
    "games = games.sample(frac=1).reset_index()\n",
    "games = games[['Result','AN']]\n",
    "#games = games.drop(columns=['rating_diff'])\n",
    "#Comment to subset out draws\n",
    "#games = games[games['Result'] != 'draw']"
   ]
  },
  {
   "cell_type": "code",
   "execution_count": 6,
   "id": "fce7b3aa",
   "metadata": {},
   "outputs": [],
   "source": [
    "games = games[~(games['Result'].str.contains('*',regex=False))]"
   ]
  },
  {
   "cell_type": "code",
   "execution_count": 7,
   "id": "d8919466",
   "metadata": {},
   "outputs": [],
   "source": [
    "games['Result'] = games['Result'].apply(lambda x: int(x[0]))"
   ]
  },
  {
   "cell_type": "code",
   "execution_count": 8,
   "id": "360e5ece",
   "metadata": {},
   "outputs": [],
   "source": [
    "games['winner'] = games['Result']\n",
    "games = games.drop(columns=['Result'])"
   ]
  },
  {
   "cell_type": "code",
   "execution_count": 9,
   "id": "c6ed6267",
   "metadata": {},
   "outputs": [],
   "source": [
    "games['moves'] = games['AN']\n",
    "game = games.drop(columns=['AN'])"
   ]
  },
  {
   "cell_type": "markdown",
   "id": "71392e91",
   "metadata": {},
   "source": [
    "Now that we know that our data doesn't contain nulls, let's check roughly what our baseline percent is."
   ]
  },
  {
   "cell_type": "code",
   "execution_count": 10,
   "id": "2e68a7de",
   "metadata": {},
   "outputs": [
    {
     "data": {
      "text/plain": [
       "1    0.535976\n",
       "0    0.464024\n",
       "Name: winner, dtype: float64"
      ]
     },
     "execution_count": 10,
     "metadata": {},
     "output_type": "execute_result"
    }
   ],
   "source": [
    "games['winner'].value_counts(normalize=True)"
   ]
  },
  {
   "cell_type": "markdown",
   "id": "515b4e00",
   "metadata": {},
   "source": [
    "Looking at this, our model will need to perform above roughly 50% to be accurate.\n",
    "\n",
    "## Data Cleaning and Preprocessing\n",
    "Unfortunately, the moves columns is our only source of information for what is going on in our games turn to turn. Because of this we'll need to work vigorously to get the data the way we want it in. First things first let's split this column into the desired number of turns. This needs to be standardized so that our number of inputs for our model is always the same. We'll create a variable, turns, representing the number of turns we want."
   ]
  },
  {
   "cell_type": "code",
   "execution_count": 11,
   "id": "eec374c7",
   "metadata": {},
   "outputs": [],
   "source": [
    "turns = 30"
   ]
  },
  {
   "cell_type": "markdown",
   "id": "458fe903",
   "metadata": {},
   "source": [
    "Now we'll need to create a function to return the our moves column split and spliced to our desired size. An important issue of note is because we have to have consistent input, games with less turns will need to be padded. For ease of use, we'll pad the empty turns with 0."
   ]
  },
  {
   "cell_type": "code",
   "execution_count": 12,
   "id": "35183142",
   "metadata": {},
   "outputs": [],
   "source": [
    "def splitStandardize(array, length = turns):\n",
    "    split_array = pd.Series(array.split(' '))[0:int(length*1.5)+1]\n",
    "    split_array = list(split_array[split_array.str.contains('.',regex=False) == False])[0:length]\n",
    "    while len(split_array) < length:\n",
    "        split_array.append('0')\n",
    "    return(split_array)"
   ]
  },
  {
   "cell_type": "markdown",
   "id": "69f39cc4",
   "metadata": {},
   "source": [
    "Because we have such a large dataset, in order to keep the memory managable, we'll have to batch our dataset so that it properly works. We'll batch our data into 10 sections."
   ]
  },
  {
   "cell_type": "code",
   "execution_count": 13,
   "id": "df49b746",
   "metadata": {},
   "outputs": [],
   "source": [
    "batched = np.array_split(games,20)\n",
    "test = batched[-1]\n",
    "batched = batched[0:-1]\n",
    "del(games)"
   ]
  },
  {
   "cell_type": "markdown",
   "id": "6b3cdda2",
   "metadata": {},
   "source": [
    "Now we can create a new column for our first x amount of turns."
   ]
  },
  {
   "cell_type": "markdown",
   "id": "d4e244ad",
   "metadata": {},
   "source": [
    "Now we need to conceptualize what we're going to do with these moves. Chess has a couple of things of note for the notation. Here's what we need to know.\n",
    "* Move put opponent in check: + (++ means checkmate)\n",
    "* Piece was taken in move: x\n",
    "* Different notations are used for different pieces\n",
    "  * K : King\n",
    "  * Q : Queen\n",
    "  * R : Rook\n",
    "  * B : Bishop\n",
    "  * N : Knight\n",
    "  * P : pawn (Note that pawn is also the defualt)\n",
    "* Castleing is indicated by O-O or O-O-O\n",
    "* Lower case letters followed by a number represents the coordinates of the play. This get's weird as a piece was taken. If a piece was taken, the coordinates of the final location are given after the \"x\".\n",
    "\n",
    "With this information we should be able to work with putting our information about moves into vectors. Each turn or move will contain:\n",
    "- A feature representing the x coordinate (letters)\n",
    "- A feature repressenting the y cooridnate (numbers)\n",
    "- Dummy columns for each piece that was moved (other than pawn)\n",
    "- A flag for if a piece was taken\n",
    "- A flag for if a move resulted in a check\n",
    "- A flag for if the turn was null (ie the game was finished already)\n",
    "- A flag for if a castle occured\n",
    "\n",
    "We'll need to create functions for each of these flags."
   ]
  },
  {
   "cell_type": "code",
   "execution_count": 14,
   "id": "b686a3ca",
   "metadata": {},
   "outputs": [],
   "source": [
    "def flagPieceTaken(array):\n",
    "    if '0' == array:\n",
    "        return(-1)\n",
    "    elif 'x' in array:\n",
    "        return(1)\n",
    "    else:\n",
    "        return(0)"
   ]
  },
  {
   "cell_type": "code",
   "execution_count": 15,
   "id": "026c8762",
   "metadata": {},
   "outputs": [],
   "source": [
    "def flagCheck(array):\n",
    "    if '0' == array:\n",
    "        return(-1)\n",
    "    elif '+' in array:\n",
    "        return(1)\n",
    "    else:\n",
    "        return(0)"
   ]
  },
  {
   "cell_type": "code",
   "execution_count": 16,
   "id": "b4ea3f19",
   "metadata": {},
   "outputs": [],
   "source": [
    "def flagNull(array):\n",
    "    if '0' == array:\n",
    "        return(1)\n",
    "    else:\n",
    "        return(0)"
   ]
  },
  {
   "cell_type": "code",
   "execution_count": 17,
   "id": "35b027a4",
   "metadata": {},
   "outputs": [],
   "source": [
    "def flagPieceType(turnNumber,dataframe):\n",
    "    dataframe['temp'] = dataframe['moves'].apply(lambda x: x[turnNumber])\n",
    "    for piece in ['K','Q','R','B','N']:\n",
    "        newColumnName = piece + str(turnNumber + 1)\n",
    "        dataframe[newColumnName] = [0] * len(dataframe)\n",
    "        dataframe.loc[dataframe['temp'].str.contains(piece,na=False),newColumnName] = 1"
   ]
  },
  {
   "cell_type": "code",
   "execution_count": 18,
   "id": "3e1d0e98",
   "metadata": {},
   "outputs": [],
   "source": [
    "def xCoord(array, case = {'a':1,'b':2,'c':3,'d':4,'e':5,'f':6,'g':7,'h':8}):\n",
    "    key = ''\n",
    "    index = -1\n",
    "    while (key not in case) and (abs(index) <= len(array)):\n",
    "        key = array[index]\n",
    "        index-= 1\n",
    "    if key in case:\n",
    "        return(case[key])\n",
    "    else:\n",
    "        return(-1)"
   ]
  },
  {
   "cell_type": "code",
   "execution_count": 19,
   "id": "e2d4ff46",
   "metadata": {},
   "outputs": [],
   "source": [
    "def yCoord(array, case = {'1':1,'2':2,'3':3,'4':4,'5':5,'6':6,'7':7,'8':8}):\n",
    "    key = ''\n",
    "    index = -1\n",
    "    while (key not in case) and (abs(index) <= len(array)):\n",
    "        key = array[index]\n",
    "        index-= 1\n",
    "    if key in case:\n",
    "        return(case[key])\n",
    "    else:\n",
    "        return(-1)"
   ]
  },
  {
   "cell_type": "code",
   "execution_count": 20,
   "id": "94c5e9fb",
   "metadata": {},
   "outputs": [],
   "source": [
    "def castleFlag(array):\n",
    "    if array == '0':\n",
    "        return(-1)\n",
    "    elif 'O-O' in array:\n",
    "        return(1)\n",
    "    else:\n",
    "        return(0)"
   ]
  },
  {
   "cell_type": "markdown",
   "id": "d599cc8f",
   "metadata": {},
   "source": [
    "Now that we have all of our functions built, let's create one big function that combines them all. This will make our code more interpretable."
   ]
  },
  {
   "cell_type": "code",
   "execution_count": 21,
   "id": "0f8d5f7f",
   "metadata": {},
   "outputs": [],
   "source": [
    "def combined(turnNumber,dataframe):\n",
    "    newColumnName = str(turnNumber + 1)\n",
    "    array = dataframe['moves'].apply(lambda x: x[turnNumber])\n",
    "    array = array.apply(lambda x: x.replace('=',''))\n",
    "    dataframe[f\"{newColumnName}PieceTaken\"] = array.apply(lambda x: flagPieceTaken(x))\n",
    "    dataframe[f\"{newColumnName}Check\"] = array.apply(lambda x: flagCheck(x))\n",
    "    dataframe[f\"{newColumnName}NullTurn\"] = array.apply(lambda x: flagNull(x))\n",
    "    dataframe[f\"{newColumnName}XCoord\"] = array.apply(lambda x: xCoord(x))\n",
    "    dataframe[f\"{newColumnName}YCoord\"] = array.apply(lambda x: yCoord(x))\n",
    "    dataframe[f\"{newColumnName}Castle\"] = array.apply(lambda x: castleFlag(x))\n",
    "    flagPieceType(turnNumber,dataframe)"
   ]
  },
  {
   "cell_type": "markdown",
   "id": "bb7d220b",
   "metadata": {},
   "source": [
    "Now let's loop through all the turns that we have and create these features."
   ]
  },
  {
   "cell_type": "code",
   "execution_count": 22,
   "id": "d8e47669",
   "metadata": {},
   "outputs": [],
   "source": [
    "def createTurns(games,turns=turns):\n",
    "    for turnNumber in range(turns):\n",
    "        combined(turnNumber,games)"
   ]
  },
  {
   "cell_type": "markdown",
   "id": "2c3179b6",
   "metadata": {},
   "source": [
    "Now let's check and make sure this was successful."
   ]
  },
  {
   "cell_type": "markdown",
   "id": "845ca374",
   "metadata": {},
   "source": [
    "The fact that there are no columns names tells us that we have no columns that have na values. Let's drop our temp, moves, and columnName columns so that we can get ready to model."
   ]
  },
  {
   "cell_type": "code",
   "execution_count": 23,
   "id": "a8f58040",
   "metadata": {},
   "outputs": [],
   "source": [
    "def dropColumns(games):\n",
    "    games = games.drop(columns = ['temp','moves'])"
   ]
  },
  {
   "cell_type": "markdown",
   "id": "aa3ba000",
   "metadata": {},
   "source": [
    "## Deep learning KEK"
   ]
  },
  {
   "cell_type": "code",
   "execution_count": 24,
   "id": "1d67d2b0",
   "metadata": {},
   "outputs": [],
   "source": [
    "from sklearn.model_selection import train_test_split\n",
    "import tensorflow as tf\n",
    "from tensorflow.keras import layers, models"
   ]
  },
  {
   "cell_type": "markdown",
   "id": "8f4dae53",
   "metadata": {},
   "source": [
    "Now we create our model"
   ]
  },
  {
   "cell_type": "code",
   "execution_count": 25,
   "id": "869f2895",
   "metadata": {},
   "outputs": [],
   "source": [
    "def createModel(turns=turns):\n",
    "    model = models.Sequential()\n",
    "    model.add(layers.InputLayer(turns*11))\n",
    "    model.add(layers.Dense(64,activation='relu'))\n",
    "    model.add(layers.Dense(64,activation='relu'))\n",
    "    model.add(layers.Dense(32,activation='softmax'))\n",
    "    model.add(layers.Dense(1))\n",
    "    model.compile(optimizer='adam',\n",
    "             loss=tf.keras.losses.BinaryCrossentropy(from_logits=True),\n",
    "             metrics=['accuracy'])\n",
    "    return(model)"
   ]
  },
  {
   "cell_type": "code",
   "execution_count": 26,
   "id": "c50ede28",
   "metadata": {
    "scrolled": true
   },
   "outputs": [],
   "source": [
    "def fitBatch(batch):\n",
    "    checkpoint_path = \"training_1/checkpoint.ckpt\"\n",
    "    model = createModel()\n",
    "    cp_callback = tf.keras.callbacks.ModelCheckpoint(filepath=checkpoint_path,\n",
    "                                                 save_weights_only=True,\n",
    "                                                 verbose=1)\n",
    "    try:\n",
    "        checkpoint_dir = os.path.dirname(checkpoint_path)\n",
    "        latest = tf.train.latest_checkpoint(checkpoint_dir)\n",
    "        model.load_weights(latest)\n",
    "    except:\n",
    "        x = 0\n",
    "    model.fit(batch.drop(columns=['winner']),\n",
    "         batch['winner'],batch_size=128,epochs=5,callbacks=[cp_callback])\n",
    "    del(model)"
   ]
  },
  {
   "cell_type": "code",
   "execution_count": 27,
   "id": "966e3eb9",
   "metadata": {},
   "outputs": [
    {
     "name": "stdout",
     "output_type": "stream",
     "text": [
      "Batch 15 Moves Created\n",
      "Batch 15 Turns Created\n",
      "\n"
     ]
    },
    {
     "ename": "MemoryError",
     "evalue": "Unable to allocate 787. MiB for an array with shape (330, 312742) and data type int64",
     "output_type": "error",
     "traceback": [
      "\u001b[1;31m---------------------------------------------------------------------------\u001b[0m",
      "\u001b[1;31mMemoryError\u001b[0m                               Traceback (most recent call last)",
      "Cell \u001b[1;32mIn [27], line 10\u001b[0m\n\u001b[0;32m      8\u001b[0m \u001b[38;5;28mprint\u001b[39m(\u001b[38;5;124mf\u001b[39m\u001b[38;5;124m'\u001b[39m\u001b[38;5;124mBatch \u001b[39m\u001b[38;5;132;01m{\u001b[39;00mi\u001b[38;5;132;01m}\u001b[39;00m\u001b[38;5;124m Turns Created\u001b[39m\u001b[38;5;130;01m\\n\u001b[39;00m\u001b[38;5;124m'\u001b[39m)\n\u001b[0;32m      9\u001b[0m batch \u001b[38;5;241m=\u001b[39m batch\u001b[38;5;241m.\u001b[39mdrop(columns\u001b[38;5;241m=\u001b[39m[\u001b[38;5;124m'\u001b[39m\u001b[38;5;124mtemp\u001b[39m\u001b[38;5;124m'\u001b[39m,\u001b[38;5;124m'\u001b[39m\u001b[38;5;124mmoves\u001b[39m\u001b[38;5;124m'\u001b[39m,\u001b[38;5;124m'\u001b[39m\u001b[38;5;124mAN\u001b[39m\u001b[38;5;124m'\u001b[39m])\n\u001b[1;32m---> 10\u001b[0m \u001b[43mfitBatch\u001b[49m\u001b[43m(\u001b[49m\u001b[43mbatch\u001b[49m\u001b[43m)\u001b[49m\n\u001b[0;32m     11\u001b[0m \u001b[38;5;28;01mdel\u001b[39;00m(batch)\n\u001b[0;32m     12\u001b[0m \u001b[38;5;28;01mdel\u001b[39;00m(batched[\u001b[38;5;241m0\u001b[39m])\n",
      "Cell \u001b[1;32mIn [26], line 13\u001b[0m, in \u001b[0;36mfitBatch\u001b[1;34m(batch)\u001b[0m\n\u001b[0;32m     11\u001b[0m \u001b[38;5;28;01mexcept\u001b[39;00m:\n\u001b[0;32m     12\u001b[0m     x \u001b[38;5;241m=\u001b[39m \u001b[38;5;241m0\u001b[39m\n\u001b[1;32m---> 13\u001b[0m \u001b[43mmodel\u001b[49m\u001b[38;5;241;43m.\u001b[39;49m\u001b[43mfit\u001b[49m\u001b[43m(\u001b[49m\u001b[43mbatch\u001b[49m\u001b[38;5;241;43m.\u001b[39;49m\u001b[43mdrop\u001b[49m\u001b[43m(\u001b[49m\u001b[43mcolumns\u001b[49m\u001b[38;5;241;43m=\u001b[39;49m\u001b[43m[\u001b[49m\u001b[38;5;124;43m'\u001b[39;49m\u001b[38;5;124;43mwinner\u001b[39;49m\u001b[38;5;124;43m'\u001b[39;49m\u001b[43m]\u001b[49m\u001b[43m)\u001b[49m\u001b[43m,\u001b[49m\n\u001b[0;32m     14\u001b[0m \u001b[43m     \u001b[49m\u001b[43mbatch\u001b[49m\u001b[43m[\u001b[49m\u001b[38;5;124;43m'\u001b[39;49m\u001b[38;5;124;43mwinner\u001b[39;49m\u001b[38;5;124;43m'\u001b[39;49m\u001b[43m]\u001b[49m\u001b[43m,\u001b[49m\u001b[43mbatch_size\u001b[49m\u001b[38;5;241;43m=\u001b[39;49m\u001b[38;5;241;43m128\u001b[39;49m\u001b[43m,\u001b[49m\u001b[43mepochs\u001b[49m\u001b[38;5;241;43m=\u001b[39;49m\u001b[38;5;241;43m5\u001b[39;49m\u001b[43m,\u001b[49m\u001b[43mcallbacks\u001b[49m\u001b[38;5;241;43m=\u001b[39;49m\u001b[43m[\u001b[49m\u001b[43mcp_callback\u001b[49m\u001b[43m]\u001b[49m\u001b[43m)\u001b[49m\n\u001b[0;32m     15\u001b[0m \u001b[38;5;28;01mdel\u001b[39;00m(model)\n",
      "File \u001b[1;32m~\\anaconda3\\lib\\site-packages\\keras\\utils\\traceback_utils.py:67\u001b[0m, in \u001b[0;36mfilter_traceback.<locals>.error_handler\u001b[1;34m(*args, **kwargs)\u001b[0m\n\u001b[0;32m     65\u001b[0m \u001b[38;5;28;01mexcept\u001b[39;00m \u001b[38;5;167;01mException\u001b[39;00m \u001b[38;5;28;01mas\u001b[39;00m e:  \u001b[38;5;66;03m# pylint: disable=broad-except\u001b[39;00m\n\u001b[0;32m     66\u001b[0m   filtered_tb \u001b[38;5;241m=\u001b[39m _process_traceback_frames(e\u001b[38;5;241m.\u001b[39m__traceback__)\n\u001b[1;32m---> 67\u001b[0m   \u001b[38;5;28;01mraise\u001b[39;00m e\u001b[38;5;241m.\u001b[39mwith_traceback(filtered_tb) \u001b[38;5;28;01mfrom\u001b[39;00m \u001b[38;5;28mNone\u001b[39m\n\u001b[0;32m     68\u001b[0m \u001b[38;5;28;01mfinally\u001b[39;00m:\n\u001b[0;32m     69\u001b[0m   \u001b[38;5;28;01mdel\u001b[39;00m filtered_tb\n",
      "File \u001b[1;32m~\\anaconda3\\lib\\site-packages\\pandas\\core\\generic.py:2070\u001b[0m, in \u001b[0;36mNDFrame.__array__\u001b[1;34m(self, dtype)\u001b[0m\n\u001b[0;32m   2069\u001b[0m \u001b[38;5;28;01mdef\u001b[39;00m \u001b[38;5;21m__array__\u001b[39m(\u001b[38;5;28mself\u001b[39m, dtype: npt\u001b[38;5;241m.\u001b[39mDTypeLike \u001b[38;5;241m|\u001b[39m \u001b[38;5;28;01mNone\u001b[39;00m \u001b[38;5;241m=\u001b[39m \u001b[38;5;28;01mNone\u001b[39;00m) \u001b[38;5;241m-\u001b[39m\u001b[38;5;241m>\u001b[39m np\u001b[38;5;241m.\u001b[39mndarray:\n\u001b[1;32m-> 2070\u001b[0m     \u001b[38;5;28;01mreturn\u001b[39;00m np\u001b[38;5;241m.\u001b[39masarray(\u001b[38;5;28;43mself\u001b[39;49m\u001b[38;5;241;43m.\u001b[39;49m\u001b[43m_values\u001b[49m, dtype\u001b[38;5;241m=\u001b[39mdtype)\n",
      "File \u001b[1;32m~\\anaconda3\\lib\\site-packages\\pandas\\core\\frame.py:956\u001b[0m, in \u001b[0;36mDataFrame._values\u001b[1;34m(self)\u001b[0m\n\u001b[0;32m    949\u001b[0m \u001b[38;5;129m@property\u001b[39m\n\u001b[0;32m    950\u001b[0m \u001b[38;5;28;01mdef\u001b[39;00m \u001b[38;5;21m_values\u001b[39m(  \u001b[38;5;66;03m# type: ignore[override]\u001b[39;00m\n\u001b[0;32m    951\u001b[0m     \u001b[38;5;28mself\u001b[39m,\n\u001b[0;32m    952\u001b[0m ) \u001b[38;5;241m-\u001b[39m\u001b[38;5;241m>\u001b[39m np\u001b[38;5;241m.\u001b[39mndarray \u001b[38;5;241m|\u001b[39m DatetimeArray \u001b[38;5;241m|\u001b[39m TimedeltaArray \u001b[38;5;241m|\u001b[39m PeriodArray:\n\u001b[0;32m    953\u001b[0m     \u001b[38;5;124;03m\"\"\"\u001b[39;00m\n\u001b[0;32m    954\u001b[0m \u001b[38;5;124;03m    Analogue to ._values that may return a 2D ExtensionArray.\u001b[39;00m\n\u001b[0;32m    955\u001b[0m \u001b[38;5;124;03m    \"\"\"\u001b[39;00m\n\u001b[1;32m--> 956\u001b[0m     \u001b[38;5;28;43mself\u001b[39;49m\u001b[38;5;241;43m.\u001b[39;49m\u001b[43m_consolidate_inplace\u001b[49m\u001b[43m(\u001b[49m\u001b[43m)\u001b[49m\n\u001b[0;32m    958\u001b[0m     mgr \u001b[38;5;241m=\u001b[39m \u001b[38;5;28mself\u001b[39m\u001b[38;5;241m.\u001b[39m_mgr\n\u001b[0;32m    960\u001b[0m     \u001b[38;5;28;01mif\u001b[39;00m \u001b[38;5;28misinstance\u001b[39m(mgr, ArrayManager):\n",
      "File \u001b[1;32m~\\anaconda3\\lib\\site-packages\\pandas\\core\\generic.py:5980\u001b[0m, in \u001b[0;36mNDFrame._consolidate_inplace\u001b[1;34m(self)\u001b[0m\n\u001b[0;32m   5977\u001b[0m \u001b[38;5;28;01mdef\u001b[39;00m \u001b[38;5;21mf\u001b[39m():\n\u001b[0;32m   5978\u001b[0m     \u001b[38;5;28mself\u001b[39m\u001b[38;5;241m.\u001b[39m_mgr \u001b[38;5;241m=\u001b[39m \u001b[38;5;28mself\u001b[39m\u001b[38;5;241m.\u001b[39m_mgr\u001b[38;5;241m.\u001b[39mconsolidate()\n\u001b[1;32m-> 5980\u001b[0m \u001b[38;5;28;43mself\u001b[39;49m\u001b[38;5;241;43m.\u001b[39;49m\u001b[43m_protect_consolidate\u001b[49m\u001b[43m(\u001b[49m\u001b[43mf\u001b[49m\u001b[43m)\u001b[49m\n",
      "File \u001b[1;32m~\\anaconda3\\lib\\site-packages\\pandas\\core\\generic.py:5968\u001b[0m, in \u001b[0;36mNDFrame._protect_consolidate\u001b[1;34m(self, f)\u001b[0m\n\u001b[0;32m   5966\u001b[0m     \u001b[38;5;28;01mreturn\u001b[39;00m f()\n\u001b[0;32m   5967\u001b[0m blocks_before \u001b[38;5;241m=\u001b[39m \u001b[38;5;28mlen\u001b[39m(\u001b[38;5;28mself\u001b[39m\u001b[38;5;241m.\u001b[39m_mgr\u001b[38;5;241m.\u001b[39mblocks)\n\u001b[1;32m-> 5968\u001b[0m result \u001b[38;5;241m=\u001b[39m \u001b[43mf\u001b[49m\u001b[43m(\u001b[49m\u001b[43m)\u001b[49m\n\u001b[0;32m   5969\u001b[0m \u001b[38;5;28;01mif\u001b[39;00m \u001b[38;5;28mlen\u001b[39m(\u001b[38;5;28mself\u001b[39m\u001b[38;5;241m.\u001b[39m_mgr\u001b[38;5;241m.\u001b[39mblocks) \u001b[38;5;241m!=\u001b[39m blocks_before:\n\u001b[0;32m   5970\u001b[0m     \u001b[38;5;28mself\u001b[39m\u001b[38;5;241m.\u001b[39m_clear_item_cache()\n",
      "File \u001b[1;32m~\\anaconda3\\lib\\site-packages\\pandas\\core\\generic.py:5978\u001b[0m, in \u001b[0;36mNDFrame._consolidate_inplace.<locals>.f\u001b[1;34m()\u001b[0m\n\u001b[0;32m   5977\u001b[0m \u001b[38;5;28;01mdef\u001b[39;00m \u001b[38;5;21mf\u001b[39m():\n\u001b[1;32m-> 5978\u001b[0m     \u001b[38;5;28mself\u001b[39m\u001b[38;5;241m.\u001b[39m_mgr \u001b[38;5;241m=\u001b[39m \u001b[38;5;28;43mself\u001b[39;49m\u001b[38;5;241;43m.\u001b[39;49m\u001b[43m_mgr\u001b[49m\u001b[38;5;241;43m.\u001b[39;49m\u001b[43mconsolidate\u001b[49m\u001b[43m(\u001b[49m\u001b[43m)\u001b[49m\n",
      "File \u001b[1;32m~\\anaconda3\\lib\\site-packages\\pandas\\core\\internals\\managers.py:678\u001b[0m, in \u001b[0;36mBaseBlockManager.consolidate\u001b[1;34m(self)\u001b[0m\n\u001b[0;32m    676\u001b[0m bm \u001b[38;5;241m=\u001b[39m \u001b[38;5;28mtype\u001b[39m(\u001b[38;5;28mself\u001b[39m)(\u001b[38;5;28mself\u001b[39m\u001b[38;5;241m.\u001b[39mblocks, \u001b[38;5;28mself\u001b[39m\u001b[38;5;241m.\u001b[39maxes, \u001b[38;5;28mself\u001b[39m\u001b[38;5;241m.\u001b[39mrefs, verify_integrity\u001b[38;5;241m=\u001b[39m\u001b[38;5;28;01mFalse\u001b[39;00m)\n\u001b[0;32m    677\u001b[0m bm\u001b[38;5;241m.\u001b[39m_is_consolidated \u001b[38;5;241m=\u001b[39m \u001b[38;5;28;01mFalse\u001b[39;00m\n\u001b[1;32m--> 678\u001b[0m \u001b[43mbm\u001b[49m\u001b[38;5;241;43m.\u001b[39;49m\u001b[43m_consolidate_inplace\u001b[49m\u001b[43m(\u001b[49m\u001b[43m)\u001b[49m\n\u001b[0;32m    679\u001b[0m \u001b[38;5;28;01mreturn\u001b[39;00m bm\n",
      "File \u001b[1;32m~\\anaconda3\\lib\\site-packages\\pandas\\core\\internals\\managers.py:1849\u001b[0m, in \u001b[0;36mBlockManager._consolidate_inplace\u001b[1;34m(self)\u001b[0m\n\u001b[0;32m   1847\u001b[0m     \u001b[38;5;28mself\u001b[39m\u001b[38;5;241m.\u001b[39mblocks \u001b[38;5;241m=\u001b[39m _consolidate(\u001b[38;5;28mself\u001b[39m\u001b[38;5;241m.\u001b[39mblocks)\n\u001b[0;32m   1848\u001b[0m \u001b[38;5;28;01melse\u001b[39;00m:\n\u001b[1;32m-> 1849\u001b[0m     \u001b[38;5;28mself\u001b[39m\u001b[38;5;241m.\u001b[39mblocks, \u001b[38;5;28mself\u001b[39m\u001b[38;5;241m.\u001b[39mrefs \u001b[38;5;241m=\u001b[39m \u001b[43m_consolidate_with_refs\u001b[49m\u001b[43m(\u001b[49m\u001b[38;5;28;43mself\u001b[39;49m\u001b[38;5;241;43m.\u001b[39;49m\u001b[43mblocks\u001b[49m\u001b[43m,\u001b[49m\u001b[43m \u001b[49m\u001b[38;5;28;43mself\u001b[39;49m\u001b[38;5;241;43m.\u001b[39;49m\u001b[43mrefs\u001b[49m\u001b[43m)\u001b[49m\n\u001b[0;32m   1850\u001b[0m \u001b[38;5;28mself\u001b[39m\u001b[38;5;241m.\u001b[39m_is_consolidated \u001b[38;5;241m=\u001b[39m \u001b[38;5;28;01mTrue\u001b[39;00m\n\u001b[0;32m   1851\u001b[0m \u001b[38;5;28mself\u001b[39m\u001b[38;5;241m.\u001b[39m_known_consolidated \u001b[38;5;241m=\u001b[39m \u001b[38;5;28;01mTrue\u001b[39;00m\n",
      "File \u001b[1;32m~\\anaconda3\\lib\\site-packages\\pandas\\core\\internals\\managers.py:2316\u001b[0m, in \u001b[0;36m_consolidate_with_refs\u001b[1;34m(blocks, refs)\u001b[0m\n\u001b[0;32m   2314\u001b[0m \u001b[38;5;28;01mfor\u001b[39;00m (_can_consolidate, dtype), group_blocks_refs \u001b[38;5;129;01min\u001b[39;00m grouper:\n\u001b[0;32m   2315\u001b[0m     group_blocks, group_refs \u001b[38;5;241m=\u001b[39m \u001b[38;5;28mlist\u001b[39m(\u001b[38;5;28mzip\u001b[39m(\u001b[38;5;241m*\u001b[39m\u001b[38;5;28mlist\u001b[39m(group_blocks_refs)))\n\u001b[1;32m-> 2316\u001b[0m     merged_blocks, consolidated \u001b[38;5;241m=\u001b[39m \u001b[43m_merge_blocks\u001b[49m\u001b[43m(\u001b[49m\n\u001b[0;32m   2317\u001b[0m \u001b[43m        \u001b[49m\u001b[38;5;28;43mlist\u001b[39;49m\u001b[43m(\u001b[49m\u001b[43mgroup_blocks\u001b[49m\u001b[43m)\u001b[49m\u001b[43m,\u001b[49m\u001b[43m \u001b[49m\u001b[43mdtype\u001b[49m\u001b[38;5;241;43m=\u001b[39;49m\u001b[43mdtype\u001b[49m\u001b[43m,\u001b[49m\u001b[43m \u001b[49m\u001b[43mcan_consolidate\u001b[49m\u001b[38;5;241;43m=\u001b[39;49m\u001b[43m_can_consolidate\u001b[49m\n\u001b[0;32m   2318\u001b[0m \u001b[43m    \u001b[49m\u001b[43m)\u001b[49m\n\u001b[0;32m   2319\u001b[0m     new_blocks \u001b[38;5;241m=\u001b[39m extend_blocks(merged_blocks, new_blocks)\n\u001b[0;32m   2320\u001b[0m     \u001b[38;5;28;01mif\u001b[39;00m consolidated:\n",
      "File \u001b[1;32m~\\anaconda3\\lib\\site-packages\\pandas\\core\\internals\\managers.py:2354\u001b[0m, in \u001b[0;36m_merge_blocks\u001b[1;34m(blocks, dtype, can_consolidate)\u001b[0m\n\u001b[0;32m   2351\u001b[0m     new_values \u001b[38;5;241m=\u001b[39m bvals2[\u001b[38;5;241m0\u001b[39m]\u001b[38;5;241m.\u001b[39m_concat_same_type(bvals2, axis\u001b[38;5;241m=\u001b[39m\u001b[38;5;241m0\u001b[39m)\n\u001b[0;32m   2353\u001b[0m argsort \u001b[38;5;241m=\u001b[39m np\u001b[38;5;241m.\u001b[39margsort(new_mgr_locs)\n\u001b[1;32m-> 2354\u001b[0m new_values \u001b[38;5;241m=\u001b[39m \u001b[43mnew_values\u001b[49m\u001b[43m[\u001b[49m\u001b[43margsort\u001b[49m\u001b[43m]\u001b[49m\n\u001b[0;32m   2355\u001b[0m new_mgr_locs \u001b[38;5;241m=\u001b[39m new_mgr_locs[argsort]\n\u001b[0;32m   2357\u001b[0m bp \u001b[38;5;241m=\u001b[39m BlockPlacement(new_mgr_locs)\n",
      "\u001b[1;31mMemoryError\u001b[0m: Unable to allocate 787. MiB for an array with shape (330, 312742) and data type int64"
     ]
    }
   ],
   "source": [
    "i = 1\n",
    "for batch_iterator in range(len(batched)):\n",
    "    batch = batched[0]\n",
    "    batch['moves'] = batch['moves'].apply(lambda x: splitStandardize(x))\n",
    "    clear_output()\n",
    "    print(f'Batch {i} Moves Created')\n",
    "    createTurns(batch)\n",
    "    print(f'Batch {i} Turns Created\\n')\n",
    "    batch = batch.drop(columns=['temp','moves','AN'])\n",
    "    fitBatch(batch)\n",
    "    del(batch)\n",
    "    del(batched[0])\n",
    "    i += 1"
   ]
  },
  {
   "cell_type": "code",
   "execution_count": null,
   "id": "177603fd",
   "metadata": {},
   "outputs": [],
   "source": [
    "del(batch)\n",
    "del(batch_iterator)\n",
    "test['moves'] = test['moves'].apply(lambda x: splitStandardize(x))\n",
    "createTurns(test)\n",
    "test = test.drop(columns=['temp','moves','AN'])"
   ]
  },
  {
   "cell_type": "code",
   "execution_count": null,
   "id": "9d0faa4a",
   "metadata": {},
   "outputs": [],
   "source": [
    "model.evaluate(test.drop(columns=['winner','AN']),\n",
    "         test['winner'],batch_size=128)"
   ]
  }
 ],
 "metadata": {
  "kernelspec": {
   "display_name": "Python 3 (ipykernel)",
   "language": "python",
   "name": "python3"
  },
  "language_info": {
   "codemirror_mode": {
    "name": "ipython",
    "version": 3
   },
   "file_extension": ".py",
   "mimetype": "text/x-python",
   "name": "python",
   "nbconvert_exporter": "python",
   "pygments_lexer": "ipython3",
   "version": "3.8.8"
  }
 },
 "nbformat": 4,
 "nbformat_minor": 5
}
